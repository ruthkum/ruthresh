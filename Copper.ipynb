{
  "cells": [
    {
      "cell_type": "markdown",
      "metadata": {
        "id": "view-in-github",
        "colab_type": "text"
      },
      "source": [
        "<a href=\"https://colab.research.google.com/github/ruthkum/ruthresh/blob/main/Copper.ipynb\" target=\"_parent\"><img src=\"https://colab.research.google.com/assets/colab-badge.svg\" alt=\"Open In Colab\"/></a>"
      ]
    },
    {
      "cell_type": "code",
      "execution_count": null,
      "metadata": {
        "id": "Cpsh7blmqeV0"
      },
      "outputs": [],
      "source": [
        "import pandas as pd\n",
        "import numpy as np\n",
        "import matplotlib.pyplot as plt\n",
        "import seaborn as sns\n",
        "from sklearn.model_selection import train_test_split, GridSearchCV\n",
        "from sklearn.preprocessing import StandardScaler, LabelEncoder\n",
        "from sklearn.linear_model import LinearRegression, LogisticRegression\n",
        "from sklearn.metrics import mean_squared_error, accuracy_score, classification_report\n",
        "from sklearn.ensemble import RandomForestRegressor, RandomForestClassifier\n",
        "\n",
        "# Load the data\n",
        "file_path = '/content/Cleaned_Copper_Set.xlsx'  # Replace with the correct file path\n"
      ]
    },
    {
      "cell_type": "code",
      "execution_count": null,
      "metadata": {
        "colab": {
          "base_uri": "https://localhost:8080/"
        },
        "id": "VKchkKNt_LF0",
        "outputId": "aa8e5f82-7293-4f8c-9cc3-308b20ab4717"
      },
      "outputs": [
        {
          "name": "stdout",
          "output_type": "stream",
          "text": [
            "DataFrame loaded successfully.\n"
          ]
        }
      ],
      "source": [
        "# Try to load the DataFrame\n",
        "try:\n",
        "    df = pd.read_excel(file_path)\n",
        "    print(\"DataFrame loaded successfully.\")\n",
        "except Exception as e:\n",
        "    print(f\"Error loading DataFrame: {e}\")\n",
        "    df = None"
      ]
    },
    {
      "cell_type": "code",
      "execution_count": null,
      "metadata": {
        "colab": {
          "base_uri": "https://localhost:8080/"
        },
        "id": "YbziRLX-_Wp3",
        "outputId": "0b307324-6fcb-4da5-da17-bb44fd70e917"
      },
      "outputs": [
        {
          "name": "stdout",
          "output_type": "stream",
          "text": [
            "Current columns in df:\n",
            "['id', 'item_date', 'quantity tons', 'customer', 'country', 'status', 'item type', 'application', 'thickness', 'width', 'material_ref', 'product_ref', 'delivery date', 'selling_price']\n"
          ]
        }
      ],
      "source": [
        "# Ensure the dataframe is loaded correctly\n",
        "if df is not None:\n",
        "    # Print out the current column names to inspect\n",
        "    print(\"Current columns in df:\")\n",
        "    print(df.columns.tolist())"
      ]
    },
    {
      "cell_type": "code",
      "execution_count": null,
      "metadata": {
        "colab": {
          "base_uri": "https://localhost:8080/"
        },
        "id": "12U76lSQ_bRL",
        "outputId": "b4f33a79-d8ad-4a9d-e145-71fb5e5be6ec"
      },
      "outputs": [
        {
          "name": "stdout",
          "output_type": "stream",
          "text": [
            "Original DataFrame:\n",
            "                                     id  item_date  quantity tons  customer  \\\n",
            "0  EC06F063-9DF0-440C-8764-0B0C05A4F6AE   20210401      54.151139  30156308   \n",
            "1  4E5F4B3D-DDDF-499D-AFDE-A3227EC49425   20210401     768.024839  30202938   \n",
            "2  E140FF1B-2407-4C02-A0DD-780A093B1158   20210401     386.127949  30153963   \n",
            "3  F8D507A0-9C62-4EFE-831E-33E1DA53BB50   20210401     202.411065  30349574   \n",
            "4  4E1C4E78-152B-430A-8094-ADD889C9D0AD   20210401     785.526262  30211560   \n",
            "\n",
            "   country status item type  application  thickness   width  \\\n",
            "0       28    Won         W           10       2.00  1500.0   \n",
            "1       25    Won         W           41       0.80  1210.0   \n",
            "2       30    Won        WI           28       0.38   952.0   \n",
            "3       32    Won         S           59       2.30  1317.0   \n",
            "4       28    Won         W           10       4.00  2000.0   \n",
            "\n",
            "                               material_ref  product_ref  delivery date  \\\n",
            "0                               DEQ1 S460MC   1670798778       20210701   \n",
            "1  0000000000000000000000000000000000104991   1668701718       20210401   \n",
            "2                                  S0380700       628377       20210101   \n",
            "3                   DX51D+ZM310MAO 2.3X1317   1668701718       20210101   \n",
            "4                           2_S275JR+AR-CL1       640665       20210301   \n",
            "\n",
            "   selling_price  \n",
            "0         854.00  \n",
            "1        1047.00  \n",
            "2         644.33  \n",
            "3         768.00  \n",
            "4         577.00  \n"
          ]
        }
      ],
      "source": [
        "# Display the first few rows of the dataframe\n",
        "print(\"Original DataFrame:\")\n",
        "print(df.head())"
      ]
    },
    {
      "cell_type": "code",
      "execution_count": null,
      "metadata": {
        "colab": {
          "base_uri": "https://localhost:8080/"
        },
        "id": "DXG2YDPG2g2K",
        "outputId": "c3142eff-32cb-4d62-aac0-6a4c6e248725"
      },
      "outputs": [
        {
          "name": "stdout",
          "output_type": "stream",
          "text": [
            "\n",
            "Missing Values Count:\n",
            "id               0\n",
            "item_date        0\n",
            "quantity tons    0\n",
            "customer         0\n",
            "country          0\n",
            "status           0\n",
            "item type        0\n",
            "application      0\n",
            "thickness        0\n",
            "width            0\n",
            "material_ref     0\n",
            "product_ref      0\n",
            "delivery date    0\n",
            "selling_price    0\n",
            "dtype: int64\n"
          ]
        }
      ],
      "source": [
        " # Display the count of missing values in each column\n",
        " print(\"\\nMissing Values Count:\")\n",
        " print(df.isnull().sum())"
      ]
    },
    {
      "cell_type": "code",
      "execution_count": null,
      "metadata": {
        "id": "J8yrtB6Ps1XS"
      },
      "outputs": [],
      "source": [
        "# Check for and handle missing values\n",
        "# Option 1: Drop rows with any missing values\n",
        "df_cleaned = df.dropna()\n"
      ]
    },
    {
      "cell_type": "code",
      "execution_count": null,
      "metadata": {
        "id": "6ITNT162thpz"
      },
      "outputs": [],
      "source": [
        "# Drop duplicate rows\n",
        "df_cleaned = df_cleaned.drop_duplicates()"
      ]
    },
    {
      "cell_type": "markdown",
      "metadata": {
        "id": "EXFE2OmlA45X"
      },
      "source": [
        "1)"
      ]
    },
    {
      "cell_type": "code",
      "execution_count": null,
      "metadata": {
        "colab": {
          "base_uri": "https://localhost:8080/"
        },
        "id": "05z_M_RbBa5b",
        "outputId": "c2e13031-247f-4f19-b564-4f221c6fe052"
      },
      "outputs": [
        {
          "name": "stdout",
          "output_type": "stream",
          "text": [
            "\n",
            "Cleaned DataFrame:\n",
            "                                     id  item_date  quantity tons  customer  \\\n",
            "0  EC06F063-9DF0-440C-8764-0B0C05A4F6AE   20210401      54.151139  30156308   \n",
            "1  4E5F4B3D-DDDF-499D-AFDE-A3227EC49425   20210401     768.024839  30202938   \n",
            "2  E140FF1B-2407-4C02-A0DD-780A093B1158   20210401     386.127949  30153963   \n",
            "3  F8D507A0-9C62-4EFE-831E-33E1DA53BB50   20210401     202.411065  30349574   \n",
            "4  4E1C4E78-152B-430A-8094-ADD889C9D0AD   20210401     785.526262  30211560   \n",
            "\n",
            "   country status item type  application  thickness   width  \\\n",
            "0       28    Won         W           10       2.00  1500.0   \n",
            "1       25    Won         W           41       0.80  1210.0   \n",
            "2       30    Won        WI           28       0.38   952.0   \n",
            "3       32    Won         S           59       2.30  1317.0   \n",
            "4       28    Won         W           10       4.00  2000.0   \n",
            "\n",
            "                               material_ref  product_ref  delivery date  \\\n",
            "0                               DEQ1 S460MC   1670798778       20210701   \n",
            "1  0000000000000000000000000000000000104991   1668701718       20210401   \n",
            "2                                  S0380700       628377       20210101   \n",
            "3                   DX51D+ZM310MAO 2.3X1317   1668701718       20210101   \n",
            "4                           2_S275JR+AR-CL1       640665       20210301   \n",
            "\n",
            "   selling_price  \n",
            "0         854.00  \n",
            "1        1047.00  \n",
            "2         644.33  \n",
            "3         768.00  \n",
            "4         577.00  \n"
          ]
        }
      ],
      "source": [
        "# Display the cleaned dataframe\n",
        "print(\"\\nCleaned DataFrame:\")\n",
        "print(df_cleaned.head())\n"
      ]
    },
    {
      "cell_type": "code",
      "execution_count": null,
      "metadata": {
        "colab": {
          "base_uri": "https://localhost:8080/"
        },
        "id": "a6PBOx1RiCPl",
        "outputId": "802d44c8-49ad-4be5-9fa6-5ef55f366679"
      },
      "outputs": [
        {
          "name": "stdout",
          "output_type": "stream",
          "text": [
            "\n",
            "Basic Statistics:\n",
            "          item_date      customer        country    application  \\\n",
            "count  1.037500e+05  1.037500e+05  103750.000000  103750.000000   \n",
            "mean   2.020452e+07  3.022640e+07      44.064048      27.109022   \n",
            "std    4.564102e+03  6.730082e+04      24.150437      18.034118   \n",
            "min    1.995000e+07  3.014762e+07      25.000000       2.000000   \n",
            "25%    2.020093e+07  3.016599e+07      26.000000      10.000000   \n",
            "50%    2.020120e+07  3.020292e+07      28.000000      20.000000   \n",
            "75%    2.021020e+07  3.026890e+07      78.000000      41.000000   \n",
            "max    2.021040e+07  3.040817e+07     113.000000      99.000000   \n",
            "\n",
            "           thickness          width   product_ref  delivery date  \\\n",
            "count  103750.000000  103750.000000  1.037500e+05   1.037500e+05   \n",
            "mean        2.432587    1281.029591  4.290745e+08   2.020707e+07   \n",
            "std         8.299639     262.625327  6.943936e+08   4.494623e+03   \n",
            "min         0.180000      20.500000  6.117280e+05   2.019040e+07   \n",
            "25%         0.700000    1165.000000  6.119930e+05   2.020100e+07   \n",
            "50%         1.500000    1250.000000  6.406650e+05   2.021010e+07   \n",
            "75%         3.000000    1500.000000  1.641416e+08   2.021040e+07   \n",
            "max      2500.000000    2990.000000  1.722208e+09   2.021120e+07   \n",
            "\n",
            "       selling_price  \n",
            "count   1.037500e+05  \n",
            "mean    1.773647e+03  \n",
            "std     3.104610e+05  \n",
            "min    -1.160000e+03  \n",
            "25%     6.650000e+02  \n",
            "50%     8.050000e+02  \n",
            "75%     9.400000e+02  \n",
            "max     1.000010e+08  \n"
          ]
        }
      ],
      "source": [
        "# Exploratory Data Analysis (EDA)\n",
        "print(\"\\nBasic Statistics:\")\n",
        "print(df_cleaned.describe())"
      ]
    },
    {
      "cell_type": "code",
      "execution_count": null,
      "metadata": {
        "colab": {
          "base_uri": "https://localhost:8080/"
        },
        "id": "wB-gNBlhmOVf",
        "outputId": "0b298be4-433f-4995-c3cb-382283363fdd"
      },
      "outputs": [
        {
          "name": "stdout",
          "output_type": "stream",
          "text": [
            "Requirement already satisfied: seaborn in /usr/local/lib/python3.10/dist-packages (0.13.1)\n",
            "Requirement already satisfied: numpy!=1.24.0,>=1.20 in /usr/local/lib/python3.10/dist-packages (from seaborn) (1.25.2)\n",
            "Requirement already satisfied: pandas>=1.2 in /usr/local/lib/python3.10/dist-packages (from seaborn) (2.0.3)\n",
            "Requirement already satisfied: matplotlib!=3.6.1,>=3.4 in /usr/local/lib/python3.10/dist-packages (from seaborn) (3.7.1)\n",
            "Requirement already satisfied: contourpy>=1.0.1 in /usr/local/lib/python3.10/dist-packages (from matplotlib!=3.6.1,>=3.4->seaborn) (1.2.1)\n",
            "Requirement already satisfied: cycler>=0.10 in /usr/local/lib/python3.10/dist-packages (from matplotlib!=3.6.1,>=3.4->seaborn) (0.12.1)\n",
            "Requirement already satisfied: fonttools>=4.22.0 in /usr/local/lib/python3.10/dist-packages (from matplotlib!=3.6.1,>=3.4->seaborn) (4.53.1)\n",
            "Requirement already satisfied: kiwisolver>=1.0.1 in /usr/local/lib/python3.10/dist-packages (from matplotlib!=3.6.1,>=3.4->seaborn) (1.4.5)\n",
            "Requirement already satisfied: packaging>=20.0 in /usr/local/lib/python3.10/dist-packages (from matplotlib!=3.6.1,>=3.4->seaborn) (24.1)\n",
            "Requirement already satisfied: pillow>=6.2.0 in /usr/local/lib/python3.10/dist-packages (from matplotlib!=3.6.1,>=3.4->seaborn) (9.4.0)\n",
            "Requirement already satisfied: pyparsing>=2.3.1 in /usr/local/lib/python3.10/dist-packages (from matplotlib!=3.6.1,>=3.4->seaborn) (3.1.2)\n",
            "Requirement already satisfied: python-dateutil>=2.7 in /usr/local/lib/python3.10/dist-packages (from matplotlib!=3.6.1,>=3.4->seaborn) (2.8.2)\n",
            "Requirement already satisfied: pytz>=2020.1 in /usr/local/lib/python3.10/dist-packages (from pandas>=1.2->seaborn) (2023.4)\n",
            "Requirement already satisfied: tzdata>=2022.1 in /usr/local/lib/python3.10/dist-packages (from pandas>=1.2->seaborn) (2024.1)\n",
            "Requirement already satisfied: six>=1.5 in /usr/local/lib/python3.10/dist-packages (from python-dateutil>=2.7->matplotlib!=3.6.1,>=3.4->seaborn) (1.16.0)\n"
          ]
        }
      ],
      "source": [
        "! pip install seaborn\n"
      ]
    },
    {
      "cell_type": "code",
      "execution_count": null,
      "metadata": {
        "colab": {
          "base_uri": "https://localhost:8080/"
        },
        "id": "S_OdJXThnpFo",
        "outputId": "e1a5f9f1-abbf-4d24-8e72-27f9d4d3322a"
      },
      "outputs": [
        {
          "name": "stdout",
          "output_type": "stream",
          "text": [
            "\n",
            "Cleaned data saved to Cleaned_Copper_Set.xlsx\n"
          ]
        }
      ],
      "source": [
        "import pandas as pd\n",
        "import seaborn as sns\n",
        "import matplotlib.pyplot as plt\n",
        "\n",
        "# Ensure that the data frame `df_cleaned` is defined\n",
        "file_path = '/content/Copper_Set.xlsx'\n",
        "df = pd.read_excel(file_path)\n",
        "df_cleaned = df.dropna()\n",
        "\n",
        "# Save the cleaned data to a new Excel file\n",
        "cleaned_file_path = 'Cleaned_Copper_Set.xlsx'\n",
        "df_cleaned.to_excel(cleaned_file_path, index=False)\n",
        "print(f\"\\nCleaned data saved to {cleaned_file_path}\")\n",
        "\n",
        "# Generate a pairplot of numeric features\n",
        "numeric_columns = ['quantity tons', 'thickness', 'width', 'selling_price']\n",
        "sns.pairplot(df_cleaned[numeric_columns])\n",
        "plt.show()\n"
      ]
    },
    {
      "cell_type": "code",
      "execution_count": null,
      "metadata": {
        "colab": {
          "base_uri": "https://localhost:8080/"
        },
        "id": "3GAtoOfv3ZMB",
        "outputId": "b6e22dec-9e69-4430-e467-43945d1aa099"
      },
      "outputs": [
        {
          "name": "stdout",
          "output_type": "stream",
          "text": [
            "Requirement already satisfied: pandas in /usr/local/lib/python3.10/dist-packages (2.0.3)\n",
            "Requirement already satisfied: seaborn in /usr/local/lib/python3.10/dist-packages (0.13.1)\n",
            "Requirement already satisfied: matplotlib in /usr/local/lib/python3.10/dist-packages (3.7.1)\n",
            "Requirement already satisfied: python-dateutil>=2.8.2 in /usr/local/lib/python3.10/dist-packages (from pandas) (2.8.2)\n",
            "Requirement already satisfied: pytz>=2020.1 in /usr/local/lib/python3.10/dist-packages (from pandas) (2023.4)\n",
            "Requirement already satisfied: tzdata>=2022.1 in /usr/local/lib/python3.10/dist-packages (from pandas) (2024.1)\n",
            "Requirement already satisfied: numpy>=1.21.0 in /usr/local/lib/python3.10/dist-packages (from pandas) (1.25.2)\n",
            "Requirement already satisfied: contourpy>=1.0.1 in /usr/local/lib/python3.10/dist-packages (from matplotlib) (1.2.1)\n",
            "Requirement already satisfied: cycler>=0.10 in /usr/local/lib/python3.10/dist-packages (from matplotlib) (0.12.1)\n",
            "Requirement already satisfied: fonttools>=4.22.0 in /usr/local/lib/python3.10/dist-packages (from matplotlib) (4.53.1)\n",
            "Requirement already satisfied: kiwisolver>=1.0.1 in /usr/local/lib/python3.10/dist-packages (from matplotlib) (1.4.5)\n",
            "Requirement already satisfied: packaging>=20.0 in /usr/local/lib/python3.10/dist-packages (from matplotlib) (24.1)\n",
            "Requirement already satisfied: pillow>=6.2.0 in /usr/local/lib/python3.10/dist-packages (from matplotlib) (9.4.0)\n",
            "Requirement already satisfied: pyparsing>=2.3.1 in /usr/local/lib/python3.10/dist-packages (from matplotlib) (3.1.2)\n",
            "Requirement already satisfied: six>=1.5 in /usr/local/lib/python3.10/dist-packages (from python-dateutil>=2.8.2->pandas) (1.16.0)\n"
          ]
        }
      ],
      "source": [
        "! pip install pandas seaborn matplotlib\n"
      ]
    },
    {
      "cell_type": "code",
      "execution_count": null,
      "metadata": {
        "id": "Y1fj74M1Az7e"
      },
      "outputs": [],
      "source": [
        "# Convert non-numeric columns to numeric where possible\n",
        "df_numeric = df_cleaned.copy()\n",
        "for col in df_cleaned.columns:\n",
        "  df_numeric[col] = pd.to_numeric(df_cleaned[col], errors='coerce')"
      ]
    },
    {
      "cell_type": "code",
      "execution_count": null,
      "metadata": {
        "id": "_8Yc_ObyB2l3"
      },
      "outputs": [],
      "source": [
        "# Drop columns that are completely non-numeric\n",
        "df_numeric = df_numeric.dropna(axis=1, how='all')"
      ]
    },
    {
      "cell_type": "code",
      "execution_count": null,
      "metadata": {
        "id": "wHLlit49B5PS"
      },
      "outputs": [],
      "source": [
        "# Select only the numeric columns for the pairplot\n",
        "numeric_columns = ['quantity tons', 'thickness', 'width', 'selling_price']"
      ]
    },
    {
      "cell_type": "code",
      "execution_count": null,
      "metadata": {
        "colab": {
          "base_uri": "https://localhost:8080/"
        },
        "id": "Yyv8NQ70FvU9",
        "outputId": "4a3068cf-8c6b-41a2-bba7-a3717016c70f"
      },
      "outputs": [
        {
          "name": "stdout",
          "output_type": "stream",
          "text": [
            "Requirement already satisfied: openpyxl in /usr/local/lib/python3.10/dist-packages (3.1.5)\n",
            "Requirement already satisfied: xlrd in /usr/local/lib/python3.10/dist-packages (2.0.1)\n",
            "Requirement already satisfied: et-xmlfile in /usr/local/lib/python3.10/dist-packages (from openpyxl) (1.1.0)\n"
          ]
        }
      ],
      "source": [
        "! pip install openpyxl xlrd\n"
      ]
    },
    {
      "cell_type": "code",
      "execution_count": null,
      "metadata": {
        "colab": {
          "base_uri": "https://localhost:8080/"
        },
        "id": "sRCHk6lnCCML",
        "outputId": "7a5c5df9-2cbc-4b62-ad63-054c98754158"
      },
      "outputs": [
        {
          "name": "stdout",
          "output_type": "stream",
          "text": [
            "                                     id  item_date  quantity tons  customer  \\\n",
            "0  EC06F063-9DF0-440C-8764-0B0C05A4F6AE   20210401      54.151139  30156308   \n",
            "1  4E5F4B3D-DDDF-499D-AFDE-A3227EC49425   20210401     768.024839  30202938   \n",
            "2  E140FF1B-2407-4C02-A0DD-780A093B1158   20210401     386.127949  30153963   \n",
            "3  F8D507A0-9C62-4EFE-831E-33E1DA53BB50   20210401     202.411065  30349574   \n",
            "4  4E1C4E78-152B-430A-8094-ADD889C9D0AD   20210401     785.526262  30211560   \n",
            "\n",
            "   country status item type  application  thickness   width  \\\n",
            "0       28    Won         W           10       2.00  1500.0   \n",
            "1       25    Won         W           41       0.80  1210.0   \n",
            "2       30    Won        WI           28       0.38   952.0   \n",
            "3       32    Won         S           59       2.30  1317.0   \n",
            "4       28    Won         W           10       4.00  2000.0   \n",
            "\n",
            "                               material_ref  product_ref  delivery date  \\\n",
            "0                               DEQ1 S460MC   1670798778       20210701   \n",
            "1  0000000000000000000000000000000000104991   1668701718       20210401   \n",
            "2                                  S0380700       628377       20210101   \n",
            "3                   DX51D+ZM310MAO 2.3X1317   1668701718       20210101   \n",
            "4                           2_S275JR+AR-CL1       640665       20210301   \n",
            "\n",
            "   selling_price  \n",
            "0         854.00  \n",
            "1        1047.00  \n",
            "2         644.33  \n",
            "3         768.00  \n",
            "4         577.00  \n"
          ]
        }
      ],
      "source": [
        "import pandas as pd\n",
        "import seaborn as sns\n",
        "import matplotlib.pyplot as plt\n",
        "\n",
        "# Load your DataFrame from an Excel file\n",
        "file_path = '/content/Copper_Set.xlsx'\n",
        "df = pd.read_excel(file_path, engine='openpyxl')  # or use engine='xlrd' if you're using an older version\n",
        "\n",
        "# Check the first few rows of the DataFrame to ensure it's loaded correctly\n",
        "print(df.head())\n",
        "\n",
        "# Select the relevant numeric columns\n",
        "df_numeric = df[['quantity tons', 'thickness', 'width', 'selling_price']]\n",
        "\n",
        "# Define the numeric columns you want to plot\n",
        "numeric_columns = ['quantity tons', 'thickness', 'width', 'selling_price']\n",
        "\n",
        "# Ensure the selected columns are in the DataFrame\n",
        "if all(col in df_numeric.columns for col in numeric_columns):\n",
        "    # Plot a pairplot of the numeric columns\n",
        "    sns.pairplot(df_numeric.dropna())\n",
        "    plt.show()\n",
        "else:\n",
        "    print(\"Not all selected columns are available in the numeric DataFrame.\")\n"
      ]
    },
    {
      "cell_type": "markdown",
      "metadata": {
        "id": "vjm7zWgGCiFY"
      },
      "source": []
    },
    {
      "cell_type": "code",
      "execution_count": null,
      "metadata": {
        "colab": {
          "base_uri": "https://localhost:8080/"
        },
        "id": "Saatqs7jtjh4",
        "outputId": "f6039abf-dc84-4d15-81a3-286931688960"
      },
      "outputs": [
        {
          "name": "stdout",
          "output_type": "stream",
          "text": [
            "\n",
            "Cleaned DataFrame:\n",
            "                                     id  item_date  quantity tons  customer  \\\n",
            "0  EC06F063-9DF0-440C-8764-0B0C05A4F6AE   20210401      54.151139  30156308   \n",
            "1  4E5F4B3D-DDDF-499D-AFDE-A3227EC49425   20210401     768.024839  30202938   \n",
            "2  E140FF1B-2407-4C02-A0DD-780A093B1158   20210401     386.127949  30153963   \n",
            "3  F8D507A0-9C62-4EFE-831E-33E1DA53BB50   20210401     202.411065  30349574   \n",
            "4  4E1C4E78-152B-430A-8094-ADD889C9D0AD   20210401     785.526262  30211560   \n",
            "\n",
            "   country status item type  application  thickness   width  \\\n",
            "0       28    Won         W           10       2.00  1500.0   \n",
            "1       25    Won         W           41       0.80  1210.0   \n",
            "2       30    Won        WI           28       0.38   952.0   \n",
            "3       32    Won         S           59       2.30  1317.0   \n",
            "4       28    Won         W           10       4.00  2000.0   \n",
            "\n",
            "                               material_ref  product_ref  delivery date  \\\n",
            "0                               DEQ1 S460MC   1670798778       20210701   \n",
            "1  0000000000000000000000000000000000104991   1668701718       20210401   \n",
            "2                                  S0380700       628377       20210101   \n",
            "3                   DX51D+ZM310MAO 2.3X1317   1668701718       20210101   \n",
            "4                           2_S275JR+AR-CL1       640665       20210301   \n",
            "\n",
            "   selling_price  \n",
            "0         854.00  \n",
            "1        1047.00  \n",
            "2         644.33  \n",
            "3         768.00  \n",
            "4         577.00  \n"
          ]
        }
      ],
      "source": [
        "# Display the cleaned dataframe\n",
        "print(\"\\nCleaned DataFrame:\")\n",
        "print(df_cleaned.head())"
      ]
    },
    {
      "cell_type": "code",
      "execution_count": null,
      "metadata": {
        "id": "4B7LjFL1u4J8"
      },
      "outputs": [],
      "source": [
        "# Check for correlations\n",
        "# Convert non-numeric columns to numeric, ignore errors\n",
        "df_numeric = df_cleaned.apply(pd.to_numeric, errors='coerce')"
      ]
    },
    {
      "cell_type": "code",
      "execution_count": null,
      "metadata": {
        "colab": {
          "base_uri": "https://localhost:8080/"
        },
        "id": "rLO0lE2zvZ6G",
        "outputId": "30d5e400-9532-4b1a-d3e3-6ce64ca1472a"
      },
      "outputs": [
        {
          "name": "stdout",
          "output_type": "stream",
          "text": [
            "\n",
            "Correlation Matrix:\n",
            "               item_date  quantity tons  customer   country  application  \\\n",
            "item_date       1.000000      -0.002590  0.014101 -0.027098    -0.034997   \n",
            "quantity tons  -0.002590       1.000000 -0.000948 -0.001812    -0.002943   \n",
            "customer        0.014101      -0.000948  1.000000  0.016319     0.055252   \n",
            "country        -0.027098      -0.001812  0.016319  1.000000     0.021501   \n",
            "application    -0.034997      -0.002943  0.055252  0.021501     1.000000   \n",
            "thickness       0.012426      -0.000591  0.028541 -0.037194    -0.040236   \n",
            "width           0.035483      -0.000366  0.038185  0.031625    -0.207755   \n",
            "material_ref   -0.005879       0.017122 -0.042759 -0.019304    -0.005098   \n",
            "product_ref     0.018302      -0.001183 -0.059231 -0.179060    -0.146023   \n",
            "delivery date   0.607515      -0.004194  0.005860 -0.098012    -0.069234   \n",
            "selling_price   0.004194      -0.000012 -0.000389 -0.002183    -0.002866   \n",
            "\n",
            "               thickness     width  material_ref  product_ref  delivery date  \\\n",
            "item_date       0.012426  0.035483     -0.005879     0.018302       0.607515   \n",
            "quantity tons  -0.000591 -0.000366      0.017122    -0.001183      -0.004194   \n",
            "customer        0.028541  0.038185     -0.042759    -0.059231       0.005860   \n",
            "country        -0.037194  0.031625     -0.019304    -0.179060      -0.098012   \n",
            "application    -0.040236 -0.207755     -0.005098    -0.146023      -0.069234   \n",
            "thickness       1.000000  0.111134     -0.002909     0.047758       0.015841   \n",
            "width           0.111134  1.000000      0.008386    -0.014116       0.018238   \n",
            "material_ref   -0.002909  0.008386      1.000000    -0.024063       0.005278   \n",
            "product_ref     0.047758 -0.014116     -0.024063     1.000000       0.068918   \n",
            "delivery date   0.015841  0.018238      0.005278     0.068918       1.000000   \n",
            "selling_price  -0.000757  0.001838     -0.000220    -0.001262       0.002649   \n",
            "\n",
            "               selling_price  \n",
            "item_date           0.004194  \n",
            "quantity tons      -0.000012  \n",
            "customer           -0.000389  \n",
            "country            -0.002183  \n",
            "application        -0.002866  \n",
            "thickness          -0.000757  \n",
            "width               0.001838  \n",
            "material_ref       -0.000220  \n",
            "product_ref        -0.001262  \n",
            "delivery date       0.002649  \n",
            "selling_price       1.000000  \n"
          ]
        }
      ],
      "source": [
        "# Drop columns that cannot be converted to numeric\n",
        "df_numeric = df_numeric.dropna(axis=1, how='all')\n",
        "\n",
        "print(\"\\nCorrelation Matrix:\")\n",
        "print(df_numeric.corr())\n"
      ]
    },
    {
      "cell_type": "code",
      "execution_count": null,
      "metadata": {
        "id": "eImRRp8xvefM"
      },
      "outputs": [],
      "source": [
        "# Visualizations (Optional, requires matplotlib and seaborn)\n",
        "import matplotlib.pyplot as plt\n",
        "import seaborn as sns\n"
      ]
    },
    {
      "cell_type": "code",
      "execution_count": null,
      "metadata": {
        "colab": {
          "base_uri": "https://localhost:8080/",
          "height": 871
        },
        "id": "q9ys9nfmvjnA",
        "outputId": "c90465ac-33d9-43fb-cafa-b73b73a6f75f"
      },
      "outputs": [
        {
          "data": {
            "image/png": "[encoded data removed]",
            "text/plain": [
              "<Figure size 1000x1000 with 12 Axes>"
            ]
          },
          "metadata": {},
          "output_type": "display_data"
        }
      ],
      "source": [
        "# Histogram of each column\n",
        "df_numeric.hist(figsize=(10, 10))\n",
        "plt.show()"
      ]
    },
    {
      "cell_type": "code",
      "execution_count": null,
      "metadata": {
        "colab": {
          "base_uri": "https://localhost:8080/",
          "height": 760
        },
        "id": "PSxH1dmByjUe",
        "outputId": "3a0874e9-1964-4fe2-8b1e-d8e330fe39dc"
      },
      "outputs": [
        {
          "data": {
            "image/png": "[encoded data removed]",
            "text/plain": [
              "<Figure size 1000x800 with 2 Axes>"
            ]
          },
          "metadata": {},
          "output_type": "display_data"
        }
      ],
      "source": [
        "# Heatmap of correlation matrix\n",
        "plt.figure(figsize=(10, 8))\n",
        "sns.heatmap(df_numeric.corr(), annot=True, cmap='coolwarm')\n",
        "plt.show()"
      ]
    },
    {
      "cell_type": "markdown",
      "metadata": {
        "id": "6QLOfX0ODGHX"
      },
      "source": [
        "RUF :"
      ]
    },
    {
      "cell_type": "code",
      "execution_count": null,
      "metadata": {
        "id": "whkT4oe3d37B"
      },
      "outputs": [],
      "source": [
        "import pandas as pd\n",
        "import numpy as np\n",
        "import matplotlib.pyplot as plt\n",
        "import seaborn as sns\n",
        "from sklearn.model_selection import train_test_split, GridSearchCV\n",
        "from sklearn.preprocessing import StandardScaler, LabelEncoder\n",
        "from sklearn.linear_model import LinearRegression, LogisticRegression\n",
        "from sklearn.metrics import mean_squared_error, accuracy_score, classification_report\n",
        "from sklearn.ensemble import RandomForestRegressor, RandomForestClassifier\n"
      ]
    },
    {
      "cell_type": "code",
      "execution_count": null,
      "metadata": {
        "id": "WL45QHP-e2s8"
      },
      "outputs": [],
      "source": [
        "# Load the data\n",
        "file_path = '/content/Copper_Set.xlsx'"
      ]
    },
    {
      "cell_type": "code",
      "execution_count": null,
      "metadata": {
        "colab": {
          "base_uri": "https://localhost:8080/"
        },
        "id": "VX7VNo2cfMjx",
        "outputId": "3d367aaa-0a2e-4cb8-b325-735e8f7e78b0"
      },
      "outputs": [
        {
          "name": "stdout",
          "output_type": "stream",
          "text": [
            "Error loading DataFrame: File is not a zip file\n"
          ]
        }
      ],
      "source": [
        "try:\n",
        "    df = pd.read_excel(file_path)\n",
        "    print(\"DataFrame loaded successfully.\")\n",
        "except Exception as e:\n",
        "    print(f\"Error loading DataFrame: {e}\")\n",
        "    df = None"
      ]
    },
    {
      "cell_type": "markdown",
      "metadata": {
        "id": "eCvcZBZQ8qft"
      },
      "source": [
        "16/08/202 :"
      ]
    },
    {
      "cell_type": "code",
      "execution_count": null,
      "metadata": {
        "id": "VWLNlaf981FN"
      },
      "outputs": [],
      "source": [
        "import pandas as pd\n",
        "import numpy as np\n",
        "import seaborn as sns\n",
        "import matplotlib.pyplot as plt\n",
        "from sklearn.model_selection import train_test_split\n",
        "from sklearn.preprocessing import StandardScaler\n",
        "from sklearn.linear_model import LogisticRegression\n",
        "from sklearn.metrics import classification_report, confusion_matrix, accuracy_score\n"
      ]
    },
    {
      "cell_type": "code",
      "execution_count": null,
      "metadata": {
        "colab": {
          "base_uri": "https://localhost:8080/"
        },
        "id": "GBii8PFzF4Dz",
        "outputId": "6185df6b-c476-4b4b-e3d7-f3162bf3de66"
      },
      "outputs": [
        {
          "name": "stdout",
          "output_type": "stream",
          "text": [
            "<class 'pandas.core.frame.DataFrame'>\n",
            "RangeIndex: 181673 entries, 0 to 181672\n",
            "Data columns (total 14 columns):\n",
            " #   Column         Non-Null Count   Dtype  \n",
            "---  ------         --------------   -----  \n",
            " 0   id             181671 non-null  object \n",
            " 1   item_date      181672 non-null  float64\n",
            " 2   quantity tons  181673 non-null  object \n",
            " 3   customer       181672 non-null  float64\n",
            " 4   country        181645 non-null  float64\n",
            " 5   status         181671 non-null  object \n",
            " 6   item type      181673 non-null  object \n",
            " 7   application    181649 non-null  float64\n",
            " 8   thickness      181672 non-null  float64\n",
            " 9   width          181673 non-null  float64\n",
            " 10  material_ref   103754 non-null  object \n",
            " 11  product_ref    181673 non-null  int64  \n",
            " 12  delivery date  181672 non-null  float64\n",
            " 13  selling_price  181672 non-null  float64\n",
            "dtypes: float64(8), int64(1), object(5)\n",
            "memory usage: 19.4+ MB\n",
            "None\n"
          ]
        }
      ],
      "source": [
        "# Display the cleaned data\n",
        "print(data.info())"
      ]
    },
    {
      "cell_type": "code",
      "execution_count": null,
      "metadata": {
        "colab": {
          "base_uri": "https://localhost:8080/",
          "height": 450
        },
        "id": "C6Ozq_Q0SggQ",
        "outputId": "f9c93747-a701-41e2-86ce-1f4bd4796967"
      },
      "outputs": [
        {
          "data": {
            "image/png": "[encoded data removed]",
            "text/plain": [
              "<Figure size 640x480 with 1 Axes>"
            ]
          },
          "metadata": {},
          "output_type": "display_data"
        }
      ],
      "source": [
        "# Distribution of the target variable\n",
        "sns.countplot(x='selling_price', data=data)\n",
        "plt.show()"
      ]
    },
    {
      "cell_type": "code",
      "execution_count": null,
      "metadata": {
        "colab": {
          "base_uri": "https://localhost:8080/"
        },
        "id": "zAfMd0aPdqkd",
        "outputId": "0ba358ca-a908-41e7-cf47-20ae5a74729c"
      },
      "outputs": [
        {
          "name": "stdout",
          "output_type": "stream",
          "text": [
            "Number of samples left after cleaning: 0\n",
            "Data preview after cleaning:\n",
            "Empty DataFrame\n",
            "Columns: [id, item_date, quantity tons, customer, country, status, item type, application, thickness, width, material_ref, product_ref, delivery date, selling_price]\n",
            "Index: []\n"
          ]
        }
      ],
      "source": [
        "# Check if there's any data left after cleaning\n",
        "print(f\"Number of samples left after cleaning: {data.shape[0]}\")\n",
        "print(\"Data preview after cleaning:\")\n",
        "print(data.head())\n"
      ]
    },
    {
      "cell_type": "code",
      "execution_count": null,
      "metadata": {
        "id": "XaU0JvvceAYe"
      },
      "outputs": [],
      "source": [
        "# Define feature variables (X) and target variable (y)\n",
        "X = data.drop('width', axis=1)\n",
        "y = data['selling_price']"
      ]
    },
    {
      "cell_type": "code",
      "execution_count": null,
      "metadata": {
        "colab": {
          "base_uri": "https://localhost:8080/"
        },
        "id": "jfPp06MBeHlO",
        "outputId": "e0fcfece-4ecf-4908-f749-972c6782ce63"
      },
      "outputs": [
        {
          "name": "stdout",
          "output_type": "stream",
          "text": [
            "Error: X or y is empty after preprocessing. Please check your data cleaning steps.\n"
          ]
        }
      ],
      "source": [
        "# Step 8: Check if X and y have valid data\n",
        "if X.empty or y.empty:\n",
        "    print(\"Error: X or y is empty after preprocessing. Please check your data cleaning steps.\")\n",
        "\n"
      ]
    },
    {
      "cell_type": "code",
      "execution_count": null,
      "metadata": {
        "colab": {
          "base_uri": "https://localhost:8080/"
        },
        "id": "dLTlZUdDflcr",
        "outputId": "637ee77f-48f1-45b3-94fa-4b807bf36ef0"
      },
      "outputs": [
        {
          "name": "stdout",
          "output_type": "stream",
          "text": [
            "Number of samples left after cleaning: 0\n",
            "Number of features: 14\n"
          ]
        }
      ],
      "source": [
        "# Step 6: Check the data size after cleaning\n",
        "print(f\"Number of samples left after cleaning: {data.shape[0]}\")\n",
        "print(f\"Number of features: {data.shape[1]}\")"
      ]
    },
    {
      "cell_type": "code",
      "execution_count": null,
      "metadata": {
        "colab": {
          "base_uri": "https://localhost:8080/"
        },
        "id": "cFdyODWCj3pd",
        "outputId": "e12c07c3-fd56-4ead-c5fc-721955d89058"
      },
      "outputs": [
        {
          "name": "stdout",
          "output_type": "stream",
          "text": [
            "Feature matrix (X) size: (0, 13)\n",
            "Target variable (y) size: (0,)\n"
          ]
        }
      ],
      "source": [
        "# Step 7: Define feature variables (X) and target variable (y)\n",
        "# Replace 'target_column' with the actual target variable name in your dataset\n",
        "if 'width' in data.columns:\n",
        "    X = data.drop('width', axis=1)\n",
        "    y = data['selling_price']\n",
        "    print(\"Feature matrix (X) size:\", X.shape)\n",
        "    print(\"Target variable (y) size:\", y.shape)\n",
        "else:\n",
        "    raise ValueError(\"The target column 'target_column' was not found in the dataset. Please check the column names.\")\n"
      ]
    },
    {
      "cell_type": "code",
      "execution_count": null,
      "metadata": {
        "id": "_-EmvE1clrFj"
      },
      "outputs": [],
      "source": [
        "from sklearn.model_selection import train_test_split\n"
      ]
    },
    {
      "cell_type": "code",
      "execution_count": null,
      "metadata": {
        "colab": {
          "base_uri": "https://localhost:8080/"
        },
        "id": "sDWhhQRXt92c",
        "outputId": "e9c453b0-6fca-4986-d1f2-4a024ba9c5ed"
      },
      "outputs": [
        {
          "name": "stdout",
          "output_type": "stream",
          "text": [
            "Data size after dropping irrelevant columns: (0, 14)\n",
            "Data size after converting categorical variables: (0, 14)\n",
            "Data size after converting to numeric: (0, 14)\n",
            "Data size after filling missing values: (0, 14)\n"
          ]
        }
      ],
      "source": [
        "# Drop irrelevant columns (adjust column names as needed)\n",
        "data = data.drop(['ID_column'], axis=1, errors='ignore')\n",
        "print(\"Data size after dropping irrelevant columns:\", data.shape)\n",
        "\n",
        "# Convert categorical variables to numerical\n",
        "data = pd.get_dummies(data, drop_first=True)\n",
        "print(\"Data size after converting categorical variables:\", data.shape)\n",
        "\n",
        "# Convert all columns to numeric, coerce errors to NaN\n",
        "data = data.apply(pd.to_numeric, errors='coerce')\n",
        "print(\"Data size after converting to numeric:\", data.shape)\n",
        "\n",
        "# Fill missing values with mean (or choose another method if preferred)\n",
        "data = data.fillna(data.mean())\n",
        "print(\"Data size after filling missing values:\", data.shape)\n"
      ]
    },
    {
      "cell_type": "code",
      "execution_count": null,
      "metadata": {
        "colab": {
          "base_uri": "https://localhost:8080/"
        },
        "id": "UxNXL1CuYKqS",
        "outputId": "37e885e5-60f2-4576-96ad-0f7d6588804f"
      },
      "outputs": [
        {
          "name": "stdout",
          "output_type": "stream",
          "text": [
            "Training and testing sets created:\n",
            "X_train shape: (127171, 13)\n",
            "X_test shape: (54502, 13)\n",
            "y_train shape: (127171,)\n",
            "y_test shape: (54502,)\n"
          ]
        }
      ],
      "source": [
        "print(\"Training and testing sets created:\")\n",
        "print(f\"X_train shape: {X_train.shape}\")\n",
        "print(f\"X_test shape: {X_test.shape}\")\n",
        "print(f\"y_train shape: {y_train.shape}\")\n",
        "print(f\"y_test shape: {y_test.shape}\")"
      ]
    },
    {
      "cell_type": "code",
      "execution_count": null,
      "metadata": {
        "id": "acCNxrUsYjfB"
      },
      "outputs": [],
      "source": [
        "from sklearn.linear_model import LogisticRegression\n"
      ]
    },
    {
      "cell_type": "code",
      "execution_count": null,
      "metadata": {
        "colab": {
          "base_uri": "https://localhost:8080/"
        },
        "id": "9Fie2HybZQoc",
        "outputId": "333eef5d-9064-4b1b-d3fa-e14c40c0a3d9"
      },
      "outputs": [
        {
          "name": "stdout",
          "output_type": "stream",
          "text": [
            "Data Types:\n",
            "id                object\n",
            "item_date        float64\n",
            "quantity tons     object\n",
            "customer         float64\n",
            "country          float64\n",
            "status            object\n",
            "item type         object\n",
            "application      float64\n",
            "thickness        float64\n",
            "width            float64\n",
            "material_ref      object\n",
            "product_ref        int64\n",
            "delivery date    float64\n",
            "selling_price    float64\n",
            "dtype: object\n"
          ]
        }
      ],
      "source": [
        "# Step 2: Inspect the data to identify non-numeric columns\n",
        "print(\"Data Types:\")\n",
        "print(data.dtypes)"
      ]
    },
    {
      "cell_type": "code",
      "execution_count": null,
      "metadata": {
        "id": "Fv0YngXvU_Ya"
      },
      "outputs": [],
      "source": [
        "# Define feature variables (X) and target variable (y)\n",
        "# Replace 'width' and 'selling_price' with actual column names as needed\n",
        "X = data.drop('width', axis=1)  # Example feature column\n",
        "y = data['selling_price']"
      ]
    },
    {
      "cell_type": "code",
      "execution_count": null,
      "metadata": {
        "id": "K6IRL-40VKm7"
      },
      "outputs": [],
      "source": [
        "# Convert features to numeric, handle errors\n",
        "X = X.apply(pd.to_numeric, errors='coerce')"
      ]
    },
    {
      "cell_type": "code",
      "execution_count": null,
      "metadata": {
        "id": "nbaq0RPEVMoR"
      },
      "outputs": [],
      "source": [
        "# Drop rows with NaN values in features and target\n",
        "X = X.dropna()\n",
        "y = y.loc[X.index]  # Ensure y matches X after dropping rows"
      ]
    },
    {
      "cell_type": "code",
      "execution_count": null,
      "metadata": {
        "colab": {
          "base_uri": "https://localhost:8080/"
        },
        "id": "BX3Tef0jVQ81",
        "outputId": "1a1691bc-1c21-4f00-b2c9-b180c5256273"
      },
      "outputs": [
        {
          "name": "stdout",
          "output_type": "stream",
          "text": [
            "Shape of X: (0, 13)\n",
            "Shape of y: (0,)\n"
          ]
        }
      ],
      "source": [
        "# Print the shape of X and y to ensure they are aligned\n",
        "print(f\"Shape of X: {X.shape}\")\n",
        "print(f\"Shape of y: {y.shape}\")\n"
      ]
    },
    {
      "cell_type": "markdown",
      "metadata": {
        "id": "ocY6RoJavmE5"
      },
      "source": [
        "RUF 1 :"
      ]
    },
    {
      "cell_type": "code",
      "execution_count": null,
      "metadata": {
        "colab": {
          "base_uri": "https://localhost:8080/"
        },
        "id": "gvfhXEE_wLxj",
        "outputId": "848f8fb2-3405-45ba-ba89-9f38d932c38e"
      },
      "outputs": [
        {
          "name": "stdout",
          "output_type": "stream",
          "text": [
            "Data size after dropping columns: (181673, 14)\n"
          ]
        }
      ],
      "source": [
        "# Drop irrelevant columns (adjust as necessary)\n",
        "data = data.drop(['ID_column'], axis=1, errors='ignore')  # Replace 'ID_column' with actual columns if needed\n",
        "print(\"Data size after dropping columns:\", data.shape)\n"
      ]
    },
    {
      "cell_type": "code",
      "execution_count": null,
      "metadata": {
        "colab": {
          "base_uri": "https://localhost:8080/"
        },
        "id": "pYww-rG8bfpw",
        "outputId": "0dd8412f-5897-48a7-b7a8-ab58c19052e9"
      },
      "outputs": [
        {
          "name": "stdout",
          "output_type": "stream",
          "text": [
            "Feature matrix (X) size: (181673, 13)\n",
            "Target variable (y) size: (181673,)\n"
          ]
        }
      ],
      "source": [
        "import pandas as pd\n",
        "\n",
        "# Load your dataset (Excel file)\n",
        "file_path = '/content/Copper_Set.xlsx'\n",
        "data = pd.read_excel(file_path)  # Load the Excel file\n",
        "\n",
        "# Define target column\n",
        "target_column = 'selling_price'  # Replace with your actual target column name\n",
        "\n",
        "if target_column in data.columns:\n",
        "    # Correct column names as per your dataset\n",
        "    X = data.drop(columns=[target_column])  # Drop the target column to get features\n",
        "    y = data[target_column]  # Set the target variable\n",
        "    print(\"Feature matrix (X) size:\", X.shape)\n",
        "    print(\"Target variable (y) size:\", y.shape)\n",
        "else:\n",
        "    raise ValueError(f\"The target column '{target_column}' was not found in the dataset.\")\n"
      ]
    },
    {
      "cell_type": "code",
      "execution_count": null,
      "metadata": {
        "id": "Rv290JNjd20p"
      },
      "outputs": [],
      "source": [
        "import pandas as pd\n",
        "from sklearn.model_selection import train_test_split\n",
        "from sklearn.linear_model import LogisticRegression\n",
        "from sklearn.metrics import accuracy_score\n"
      ]
    },
    {
      "cell_type": "code",
      "execution_count": null,
      "metadata": {
        "id": "SMlwhXHmd6DY"
      },
      "outputs": [],
      "source": [
        "# Assuming you have already defined your feature matrix (X) and target variable (y)\n",
        "# Split the data into training and testing sets\n",
        "X_train, X_test, y_train, y_test = train_test_split(X, y, test_size=0.2, random_state=42)"
      ]
    },
    {
      "cell_type": "code",
      "execution_count": null,
      "metadata": {
        "id": "7zIpN5fZkx4F"
      },
      "outputs": [],
      "source": [
        "from sklearn.preprocessing import LabelEncoder  # Import LabelEncoder\n"
      ]
    },
    {
      "cell_type": "code",
      "execution_count": null,
      "metadata": {
        "colab": {
          "base_uri": "https://localhost:8080/"
        },
        "id": "YDV7YHSr-ijR",
        "outputId": "9bcbfabb-8661-465d-8b39-086a279576a1"
      },
      "outputs": [
        {
          "name": "stdout",
          "output_type": "stream",
          "text": [
            "Model Mean Squared Error: 18285612.81\n"
          ]
        }
      ],
      "source": [
        "import pandas as pd\n",
        "from sklearn.model_selection import train_test_split\n",
        "from sklearn.linear_model import LinearRegression\n",
        "from sklearn.metrics import mean_squared_error\n",
        "from sklearn.preprocessing import LabelEncoder\n",
        "from sklearn.impute import SimpleImputer\n",
        "\n",
        "# Load your dataset\n",
        "file_path = '/content/Copper_Set.xlsx'  # Update the path as needed\n",
        "\n",
        "try:\n",
        "    data = pd.read_excel(file_path)\n",
        "except FileNotFoundError as e:\n",
        "    print(f\"Error: {e}\")\n",
        "    raise\n",
        "except pd.errors.EmptyDataError as e:\n",
        "    print(f\"Error: {e}\")\n",
        "    raise\n",
        "except pd.errors.ParserError as e:\n",
        "    print(f\"Error: {e}\")\n",
        "    raise\n",
        "except Exception as e:\n",
        "    print(f\"An unexpected error occurred: {e}\")\n",
        "    raise\n",
        "\n",
        "# Define the target column\n",
        "target_column = 'selling_price'  # Replace with your actual target column name\n",
        "\n",
        "# Check if the target column exists\n",
        "if target_column in data.columns:\n",
        "    # Define the feature matrix (X) and target variable (y)\n",
        "    X = data.drop(columns=[target_column])  # Drop the target column to get features\n",
        "    y = data[target_column]  # Set the target variable\n",
        "\n",
        "    # Remove rows where y has missing values\n",
        "    X = X[~y.isna()]  # Keep only rows where y is not NaN\n",
        "    y = y.dropna()  # Drop NaN values from y\n",
        "\n",
        "    # Ensure X and y are still aligned\n",
        "    X = X.loc[y.index]\n",
        "\n",
        "    # Convert categorical features to string\n",
        "    for column in X.columns:\n",
        "        if X[column].dtype == 'object':\n",
        "            X[column] = X[column].astype(str)\n",
        "\n",
        "    # Convert categorical features to numeric using LabelEncoder\n",
        "    label_encoders = {}\n",
        "    for column in X.columns:\n",
        "        if X[column].dtype == 'object':\n",
        "            le = LabelEncoder()\n",
        "            X[column] = le.fit_transform(X[column])\n",
        "            label_encoders[column] = le  # Store the encoder for later use if needed\n",
        "\n",
        "    # Handle missing values by imputing with the mean of each column\n",
        "    imputer = SimpleImputer(strategy='mean')\n",
        "    X = imputer.fit_transform(X)\n",
        "\n",
        "    # Split the data into training and testing sets\n",
        "    X_train, X_test, y_train, y_test = train_test_split(X, y, test_size=0.2, random_state=42)\n",
        "\n",
        "    # Initialize and train the linear regression model\n",
        "    model = LinearRegression()\n",
        "    model.fit(X_train, y_train)\n",
        "\n",
        "    # Make predictions on the test set\n",
        "    y_pred = model.predict(X_test)\n",
        "\n",
        "    # Evaluate the model\n",
        "    mse = mean_squared_error(y_test, y_pred)\n",
        "    print(f\"Model Mean Squared Error: {mse:.2f}\")\n",
        "else:\n",
        "    raise ValueError(f\"The target column '{target_column}' was not found in the dataset.\")\n"
      ]
    },
    {
      "cell_type": "code",
      "execution_count": null,
      "metadata": {
        "colab": {
          "base_uri": "https://localhost:8080/",
          "height": 874
        },
        "id": "gJB7BfRtM3fE",
        "outputId": "c7e532ec-7bfc-47cc-d98d-ed5efd578782"
      },
      "outputs": [
        {
          "name": "stderr",
          "output_type": "stream",
          "text": [
            "/usr/local/lib/python3.10/dist-packages/sklearn/preprocessing/_discretization.py:248: FutureWarning: In version 1.5 onwards, subsample=200_000 will be used by default. Set subsample explicitly to silence this warning in the mean time. Set subsample=None to disable subsampling explicitly.\n",
            "  warnings.warn(\n",
            "/usr/local/lib/python3.10/dist-packages/sklearn/linear_model/_logistic.py:460: ConvergenceWarning: lbfgs failed to converge (status=2):\n",
            "ABNORMAL_TERMINATION_IN_LNSRCH.\n",
            "\n",
            "Increase the number of iterations (max_iter) or scale the data as shown in:\n",
            "    https://scikit-learn.org/stable/modules/preprocessing.html\n",
            "Please also refer to the documentation for alternative solver options:\n",
            "    https://scikit-learn.org/stable/modules/linear_model.html#logistic-regression\n",
            "  n_iter_i = _check_optimize_result(\n"
          ]
        },
        {
          "name": "stdout",
          "output_type": "stream",
          "text": [
            "Confusion Matrix:\n",
            " [[36335]]\n",
            "Classification Report:\n",
            "               precision    recall  f1-score   support\n",
            "\n",
            "         0.0       1.00      1.00      1.00     36335\n",
            "\n",
            "    accuracy                           1.00     36335\n",
            "   macro avg       1.00      1.00      1.00     36335\n",
            "weighted avg       1.00      1.00      1.00     36335\n",
            "\n",
            "Accuracy Score: 1.0\n"
          ]
        },
        {
          "data": {
            "image/png": "[encoded data removed]",
            "text/plain": [
              "<Figure size 640x480 with 2 Axes>"
            ]
          },
          "metadata": {},
          "output_type": "display_data"
        }
      ],
      "source": [
        "import pandas as pd\n",
        "from sklearn.model_selection import train_test_split\n",
        "from sklearn.linear_model import LogisticRegression\n",
        "from sklearn.metrics import confusion_matrix, classification_report, accuracy_score\n",
        "from sklearn.preprocessing import LabelEncoder, KBinsDiscretizer\n",
        "from sklearn.impute import SimpleImputer\n",
        "import seaborn as sns\n",
        "import matplotlib.pyplot as plt\n",
        "\n",
        "# Load your dataset\n",
        "file_path = '/content/Copper_Set.xlsx'  # Update with your file path\n",
        "\n",
        "try:\n",
        "    data = pd.read_excel(file_path)\n",
        "except Exception as e:\n",
        "    print(f\"An error occurred while loading the file: {e}\")\n",
        "    raise\n",
        "\n",
        "# Define the target column\n",
        "target_column = 'selling_price'  # Replace with your actual target column name\n",
        "\n",
        "# Check if the target column exists\n",
        "if target_column in data.columns:\n",
        "    # Define the feature matrix (X) and target variable (y)\n",
        "    X = data.drop(columns=[target_column])  # Drop the target column to get features\n",
        "    y = data[target_column]  # Set the target variable\n",
        "\n",
        "    # Ensure numeric columns are properly typed\n",
        "    for col in X.columns:\n",
        "        X[col] = pd.to_numeric(X[col], errors='ignore')\n",
        "\n",
        "    # Ensure categorical columns are treated as strings\n",
        "    for col in X.select_dtypes(include=['object']).columns:\n",
        "        X[col] = X[col].astype(str)\n",
        "\n",
        "    # Separate numeric and categorical columns\n",
        "    numeric_cols = X.select_dtypes(include=['number']).columns\n",
        "    categorical_cols = X.select_dtypes(include=['object']).columns\n",
        "\n",
        "    # Impute missing values in numeric columns with the mean\n",
        "    imputer_numeric = SimpleImputer(strategy='mean')\n",
        "    X[numeric_cols] = imputer_numeric.fit_transform(X[numeric_cols])\n",
        "\n",
        "    # Impute missing values in categorical columns with the most frequent value\n",
        "    imputer_categorical = SimpleImputer(strategy='most_frequent')\n",
        "    X[categorical_cols] = imputer_categorical.fit_transform(X[categorical_cols])\n",
        "\n",
        "    # Convert categorical features to numeric using LabelEncoder\n",
        "    label_encoders = {}\n",
        "    for column in categorical_cols:\n",
        "        le = LabelEncoder()\n",
        "        X[column] = le.fit_transform(X[column])\n",
        "        label_encoders[column] = le  # Store the encoder for later use if needed\n",
        "\n",
        "    # Impute missing values in the target variable\n",
        "    y = y.fillna(y.mean())\n",
        "\n",
        "    # Convert continuous target variable into categorical bins for classification\n",
        "    n_bins = 3  # Number of bins (e.g., low, medium, high)\n",
        "    discretizer = KBinsDiscretizer(n_bins=n_bins, encode='ordinal', strategy='uniform')\n",
        "    y_binned = discretizer.fit_transform(y.values.reshape(-1, 1)).ravel()\n",
        "\n",
        "    # Split the data into training and testing sets\n",
        "    X_train, X_test, y_train, y_test = train_test_split(X, y_binned, test_size=0.2, random_state=42)\n",
        "\n",
        "    # Initialize and train the logistic regression model\n",
        "    model = LogisticRegression()\n",
        "    model.fit(X_train, y_train)\n",
        "\n",
        "    # Make predictions on the test set\n",
        "    y_pred = model.predict(X_test)\n",
        "\n",
        "    # Confusion Matrix\n",
        "    conf_matrix = confusion_matrix(y_test, y_pred)\n",
        "    print('Confusion Matrix:\\n', conf_matrix)\n",
        "\n",
        "    # Classification Report\n",
        "    class_report = classification_report(y_test, y_pred)\n",
        "    print('Classification Report:\\n', class_report)\n",
        "\n",
        "    # Accuracy Score\n",
        "    accuracy = accuracy_score(y_test, y_pred)\n",
        "    print('Accuracy Score:', accuracy)\n",
        "\n",
        "    # Visualize the confusion matrix\n",
        "    sns.heatmap(conf_matrix, annot=True, fmt=\"d\", cmap=\"Blues\")\n",
        "    plt.xlabel('Predicted')\n",
        "    plt.ylabel('Actual')\n",
        "    plt.title('Confusion Matrix')\n",
        "    plt.show()\n",
        "\n",
        "else:\n",
        "    raise ValueError(f\"The target column '{target_column}' was not found in the dataset.\")\n"
      ]
    },
    {
      "cell_type": "markdown",
      "metadata": {
        "id": "NBqEGaIhZlVU"
      },
      "source": [
        "27/08/2024:"
      ]
    },
    {
      "cell_type": "code",
      "execution_count": null,
      "metadata": {
        "colab": {
          "base_uri": "https://localhost:8080/"
        },
        "id": "E8jqkWPPZrJv",
        "outputId": "079839d9-9e2e-44df-8d5b-56d96da9e645"
      },
      "outputs": [
        {
          "name": "stdout",
          "output_type": "stream",
          "text": [
            "Collecting streamlit\n",
            "  Downloading streamlit-1.37.1-py2.py3-none-any.whl.metadata (8.5 kB)\n",
            "Requirement already satisfied: scikit-learn in /usr/local/lib/python3.10/dist-packages (1.3.2)\n",
            "Requirement already satisfied: pandas in /usr/local/lib/python3.10/dist-packages (2.1.4)\n",
            "Requirement already satisfied: joblib in /usr/local/lib/python3.10/dist-packages (1.4.2)\n",
            "Requirement already satisfied: altair<6,>=4.0 in /usr/local/lib/python3.10/dist-packages (from streamlit) (4.2.2)\n",
            "Requirement already satisfied: blinker<2,>=1.0.0 in /usr/lib/python3/dist-packages (from streamlit) (1.4)\n",
            "Requirement already satisfied: cachetools<6,>=4.0 in /usr/local/lib/python3.10/dist-packages (from streamlit) (5.5.0)\n",
            "Requirement already satisfied: click<9,>=7.0 in /usr/local/lib/python3.10/dist-packages (from streamlit) (8.1.7)\n",
            "Requirement already satisfied: numpy<3,>=1.20 in /usr/local/lib/python3.10/dist-packages (from streamlit) (1.26.4)\n",
            "Requirement already satisfied: packaging<25,>=20 in /usr/local/lib/python3.10/dist-packages (from streamlit) (24.1)\n",
            "Requirement already satisfied: pillow<11,>=7.1.0 in /usr/local/lib/python3.10/dist-packages (from streamlit) (9.4.0)\n",
            "Requirement already satisfied: protobuf<6,>=3.20 in /usr/local/lib/python3.10/dist-packages (from streamlit) (3.20.3)\n",
            "Requirement already satisfied: pyarrow>=7.0 in /usr/local/lib/python3.10/dist-packages (from streamlit) (14.0.2)\n",
            "Requirement already satisfied: requests<3,>=2.27 in /usr/local/lib/python3.10/dist-packages (from streamlit) (2.32.3)\n",
            "Requirement already satisfied: rich<14,>=10.14.0 in /usr/local/lib/python3.10/dist-packages (from streamlit) (13.7.1)\n",
            "Collecting tenacity<9,>=8.1.0 (from streamlit)\n",
            "  Downloading tenacity-8.5.0-py3-none-any.whl.metadata (1.2 kB)\n",
            "Requirement already satisfied: toml<2,>=0.10.1 in /usr/local/lib/python3.10/dist-packages (from streamlit) (0.10.2)\n",
            "Requirement already satisfied: typing-extensions<5,>=4.3.0 in /usr/local/lib/python3.10/dist-packages (from streamlit) (4.12.2)\n",
            "Collecting gitpython!=3.1.19,<4,>=3.0.7 (from streamlit)\n",
            "  Downloading GitPython-3.1.43-py3-none-any.whl.metadata (13 kB)\n",
            "Collecting pydeck<1,>=0.8.0b4 (from streamlit)\n",
            "  Downloading pydeck-0.9.1-py2.py3-none-any.whl.metadata (4.1 kB)\n",
            "Requirement already satisfied: tornado<7,>=6.0.3 in /usr/local/lib/python3.10/dist-packages (from streamlit) (6.3.3)\n",
            "Collecting watchdog<5,>=2.1.5 (from streamlit)\n",
            "  Downloading watchdog-4.0.2-py3-none-manylinux2014_x86_64.whl.metadata (38 kB)\n",
            "Requirement already satisfied: scipy>=1.5.0 in /usr/local/lib/python3.10/dist-packages (from scikit-learn) (1.13.1)\n",
            "Requirement already satisfied: threadpoolctl>=2.0.0 in /usr/local/lib/python3.10/dist-packages (from scikit-learn) (3.5.0)\n",
            "Requirement already satisfied: python-dateutil>=2.8.2 in /usr/local/lib/python3.10/dist-packages (from pandas) (2.8.2)\n",
            "Requirement already satisfied: pytz>=2020.1 in /usr/local/lib/python3.10/dist-packages (from pandas) (2024.1)\n",
            "Requirement already satisfied: tzdata>=2022.1 in /usr/local/lib/python3.10/dist-packages (from pandas) (2024.1)\n",
            "Requirement already satisfied: entrypoints in /usr/local/lib/python3.10/dist-packages (from altair<6,>=4.0->streamlit) (0.4)\n",
            "Requirement already satisfied: jinja2 in /usr/local/lib/python3.10/dist-packages (from altair<6,>=4.0->streamlit) (3.1.4)\n",
            "Requirement already satisfied: jsonschema>=3.0 in /usr/local/lib/python3.10/dist-packages (from altair<6,>=4.0->streamlit) (4.23.0)\n",
            "Requirement already satisfied: toolz in /usr/local/lib/python3.10/dist-packages (from altair<6,>=4.0->streamlit) (0.12.1)\n",
            "Collecting gitdb<5,>=4.0.1 (from gitpython!=3.1.19,<4,>=3.0.7->streamlit)\n",
            "  Downloading gitdb-4.0.11-py3-none-any.whl.metadata (1.2 kB)\n",
            "Requirement already satisfied: six>=1.5 in /usr/local/lib/python3.10/dist-packages (from python-dateutil>=2.8.2->pandas) (1.16.0)\n",
            "Requirement already satisfied: charset-normalizer<4,>=2 in /usr/local/lib/python3.10/dist-packages (from requests<3,>=2.27->streamlit) (3.3.2)\n",
            "Requirement already satisfied: idna<4,>=2.5 in /usr/local/lib/python3.10/dist-packages (from requests<3,>=2.27->streamlit) (3.7)\n",
            "Requirement already satisfied: urllib3<3,>=1.21.1 in /usr/local/lib/python3.10/dist-packages (from requests<3,>=2.27->streamlit) (2.0.7)\n",
            "Requirement already satisfied: certifi>=2017.4.17 in /usr/local/lib/python3.10/dist-packages (from requests<3,>=2.27->streamlit) (2024.7.4)\n",
            "Requirement already satisfied: markdown-it-py>=2.2.0 in /usr/local/lib/python3.10/dist-packages (from rich<14,>=10.14.0->streamlit) (3.0.0)\n",
            "Requirement already satisfied: pygments<3.0.0,>=2.13.0 in /usr/local/lib/python3.10/dist-packages (from rich<14,>=10.14.0->streamlit) (2.16.1)\n",
            "Collecting smmap<6,>=3.0.1 (from gitdb<5,>=4.0.1->gitpython!=3.1.19,<4,>=3.0.7->streamlit)\n",
            "  Downloading smmap-5.0.1-py3-none-any.whl.metadata (4.3 kB)\n",
            "Requirement already satisfied: MarkupSafe>=2.0 in /usr/local/lib/python3.10/dist-packages (from jinja2->altair<6,>=4.0->streamlit) (2.1.5)\n",
            "Requirement already satisfied: attrs>=22.2.0 in /usr/local/lib/python3.10/dist-packages (from jsonschema>=3.0->altair<6,>=4.0->streamlit) (24.2.0)\n",
            "Requirement already satisfied: jsonschema-specifications>=2023.03.6 in /usr/local/lib/python3.10/dist-packages (from jsonschema>=3.0->altair<6,>=4.0->streamlit) (2023.12.1)\n",
            "Requirement already satisfied: referencing>=0.28.4 in /usr/local/lib/python3.10/dist-packages (from jsonschema>=3.0->altair<6,>=4.0->streamlit) (0.35.1)\n",
            "Requirement already satisfied: rpds-py>=0.7.1 in /usr/local/lib/python3.10/dist-packages (from jsonschema>=3.0->altair<6,>=4.0->streamlit) (0.20.0)\n",
            "Requirement already satisfied: mdurl~=0.1 in /usr/local/lib/python3.10/dist-packages (from markdown-it-py>=2.2.0->rich<14,>=10.14.0->streamlit) (0.1.2)\n",
            "Downloading streamlit-1.37.1-py2.py3-none-any.whl (8.7 MB)\n",
            "\u001b[2K   \u001b[90m━━━━━━━━━━━━━━━━━━━━━━━━━━━━━━━━━━━━━━━━\u001b[0m \u001b[32m8.7/8.7 MB\u001b[0m \u001b[31m30.6 MB/s\u001b[0m eta \u001b[36m0:00:00\u001b[0m\n",
            "\u001b[?25hDownloading GitPython-3.1.43-py3-none-any.whl (207 kB)\n",
            "\u001b[2K   \u001b[90m━━━━━━━━━━━━━━━━━━━━━━━━━━━━━━━━━━━━━━━━\u001b[0m \u001b[32m207.3/207.3 kB\u001b[0m \u001b[31m13.2 MB/s\u001b[0m eta \u001b[36m0:00:00\u001b[0m\n",
            "\u001b[?25hDownloading pydeck-0.9.1-py2.py3-none-any.whl (6.9 MB)\n",
            "\u001b[2K   \u001b[90m━━━━━━━━━━━━━━━━━━━━━━━━━━━━━━━━━━━━━━━━\u001b[0m \u001b[32m6.9/6.9 MB\u001b[0m \u001b[31m44.7 MB/s\u001b[0m eta \u001b[36m0:00:00\u001b[0m\n",
            "\u001b[?25hDownloading tenacity-8.5.0-py3-none-any.whl (28 kB)\n",
            "Downloading watchdog-4.0.2-py3-none-manylinux2014_x86_64.whl (82 kB)\n",
            "\u001b[2K   \u001b[90m━━━━━━━━━━━━━━━━━━━━━━━━━━━━━━━━━━━━━━━━\u001b[0m \u001b[32m82.9/82.9 kB\u001b[0m \u001b[31m5.1 MB/s\u001b[0m eta \u001b[36m0:00:00\u001b[0m\n",
            "\u001b[?25hDownloading gitdb-4.0.11-py3-none-any.whl (62 kB)\n",
            "\u001b[2K   \u001b[90m━━━━━━━━━━━━━━━━━━━━━━━━━━━━━━━━━━━━━━━━\u001b[0m \u001b[32m62.7/62.7 kB\u001b[0m \u001b[31m1.8 MB/s\u001b[0m eta \u001b[36m0:00:00\u001b[0m\n",
            "\u001b[?25hDownloading smmap-5.0.1-py3-none-any.whl (24 kB)\n",
            "Installing collected packages: watchdog, tenacity, smmap, pydeck, gitdb, gitpython, streamlit\n",
            "  Attempting uninstall: tenacity\n",
            "    Found existing installation: tenacity 9.0.0\n",
            "    Uninstalling tenacity-9.0.0:\n",
            "      Successfully uninstalled tenacity-9.0.0\n",
            "Successfully installed gitdb-4.0.11 gitpython-3.1.43 pydeck-0.9.1 smmap-5.0.1 streamlit-1.37.1 tenacity-8.5.0 watchdog-4.0.2\n"
          ]
        }
      ],
      "source": [
        "! pip install streamlit scikit-learn pandas joblib\n"
      ]
    },
    {
      "cell_type": "code",
      "execution_count": null,
      "metadata": {
        "colab": {
          "base_uri": "https://localhost:8080/"
        },
        "id": "nfHcY7Duh3vl",
        "outputId": "43c85ddc-62ba-4246-ab29-8793a3326265"
      },
      "outputs": [
        {
          "name": "stdout",
          "output_type": "stream",
          "text": [
            "Requirement already satisfied: streamlit in /usr/local/lib/python3.10/dist-packages (1.37.1)\n",
            "Requirement already satisfied: scikit-learn in /usr/local/lib/python3.10/dist-packages (1.3.2)\n",
            "Requirement already satisfied: pandas in /usr/local/lib/python3.10/dist-packages (2.1.4)\n",
            "Requirement already satisfied: joblib in /usr/local/lib/python3.10/dist-packages (1.4.2)\n",
            "Requirement already satisfied: openpyxl in /usr/local/lib/python3.10/dist-packages (3.1.5)\n",
            "Requirement already satisfied: altair<6,>=4.0 in /usr/local/lib/python3.10/dist-packages (from streamlit) (4.2.2)\n",
            "Requirement already satisfied: blinker<2,>=1.0.0 in /usr/lib/python3/dist-packages (from streamlit) (1.4)\n",
            "Requirement already satisfied: cachetools<6,>=4.0 in /usr/local/lib/python3.10/dist-packages (from streamlit) (5.5.0)\n",
            "Requirement already satisfied: click<9,>=7.0 in /usr/local/lib/python3.10/dist-packages (from streamlit) (8.1.7)\n",
            "Requirement already satisfied: numpy<3,>=1.20 in /usr/local/lib/python3.10/dist-packages (from streamlit) (1.26.4)\n",
            "Requirement already satisfied: packaging<25,>=20 in /usr/local/lib/python3.10/dist-packages (from streamlit) (24.1)\n",
            "Requirement already satisfied: pillow<11,>=7.1.0 in /usr/local/lib/python3.10/dist-packages (from streamlit) (9.4.0)\n",
            "Requirement already satisfied: protobuf<6,>=3.20 in /usr/local/lib/python3.10/dist-packages (from streamlit) (3.20.3)\n",
            "Requirement already satisfied: pyarrow>=7.0 in /usr/local/lib/python3.10/dist-packages (from streamlit) (14.0.2)\n",
            "Requirement already satisfied: requests<3,>=2.27 in /usr/local/lib/python3.10/dist-packages (from streamlit) (2.32.3)\n",
            "Requirement already satisfied: rich<14,>=10.14.0 in /usr/local/lib/python3.10/dist-packages (from streamlit) (13.7.1)\n",
            "Requirement already satisfied: tenacity<9,>=8.1.0 in /usr/local/lib/python3.10/dist-packages (from streamlit) (8.5.0)\n",
            "Requirement already satisfied: toml<2,>=0.10.1 in /usr/local/lib/python3.10/dist-packages (from streamlit) (0.10.2)\n",
            "Requirement already satisfied: typing-extensions<5,>=4.3.0 in /usr/local/lib/python3.10/dist-packages (from streamlit) (4.12.2)\n",
            "Requirement already satisfied: gitpython!=3.1.19,<4,>=3.0.7 in /usr/local/lib/python3.10/dist-packages (from streamlit) (3.1.43)\n",
            "Requirement already satisfied: pydeck<1,>=0.8.0b4 in /usr/local/lib/python3.10/dist-packages (from streamlit) (0.9.1)\n",
            "Requirement already satisfied: tornado<7,>=6.0.3 in /usr/local/lib/python3.10/dist-packages (from streamlit) (6.3.3)\n",
            "Requirement already satisfied: watchdog<5,>=2.1.5 in /usr/local/lib/python3.10/dist-packages (from streamlit) (4.0.2)\n",
            "Requirement already satisfied: scipy>=1.5.0 in /usr/local/lib/python3.10/dist-packages (from scikit-learn) (1.13.1)\n",
            "Requirement already satisfied: threadpoolctl>=2.0.0 in /usr/local/lib/python3.10/dist-packages (from scikit-learn) (3.5.0)\n",
            "Requirement already satisfied: python-dateutil>=2.8.2 in /usr/local/lib/python3.10/dist-packages (from pandas) (2.8.2)\n",
            "Requirement already satisfied: pytz>=2020.1 in /usr/local/lib/python3.10/dist-packages (from pandas) (2024.1)\n",
            "Requirement already satisfied: tzdata>=2022.1 in /usr/local/lib/python3.10/dist-packages (from pandas) (2024.1)\n",
            "Requirement already satisfied: et-xmlfile in /usr/local/lib/python3.10/dist-packages (from openpyxl) (1.1.0)\n",
            "Requirement already satisfied: entrypoints in /usr/local/lib/python3.10/dist-packages (from altair<6,>=4.0->streamlit) (0.4)\n",
            "Requirement already satisfied: jinja2 in /usr/local/lib/python3.10/dist-packages (from altair<6,>=4.0->streamlit) (3.1.4)\n",
            "Requirement already satisfied: jsonschema>=3.0 in /usr/local/lib/python3.10/dist-packages (from altair<6,>=4.0->streamlit) (4.23.0)\n",
            "Requirement already satisfied: toolz in /usr/local/lib/python3.10/dist-packages (from altair<6,>=4.0->streamlit) (0.12.1)\n",
            "Requirement already satisfied: gitdb<5,>=4.0.1 in /usr/local/lib/python3.10/dist-packages (from gitpython!=3.1.19,<4,>=3.0.7->streamlit) (4.0.11)\n",
            "Requirement already satisfied: six>=1.5 in /usr/local/lib/python3.10/dist-packages (from python-dateutil>=2.8.2->pandas) (1.16.0)\n",
            "Requirement already satisfied: charset-normalizer<4,>=2 in /usr/local/lib/python3.10/dist-packages (from requests<3,>=2.27->streamlit) (3.3.2)\n",
            "Requirement already satisfied: idna<4,>=2.5 in /usr/local/lib/python3.10/dist-packages (from requests<3,>=2.27->streamlit) (3.7)\n",
            "Requirement already satisfied: urllib3<3,>=1.21.1 in /usr/local/lib/python3.10/dist-packages (from requests<3,>=2.27->streamlit) (2.0.7)\n",
            "Requirement already satisfied: certifi>=2017.4.17 in /usr/local/lib/python3.10/dist-packages (from requests<3,>=2.27->streamlit) (2024.7.4)\n",
            "Requirement already satisfied: markdown-it-py>=2.2.0 in /usr/local/lib/python3.10/dist-packages (from rich<14,>=10.14.0->streamlit) (3.0.0)\n",
            "Requirement already satisfied: pygments<3.0.0,>=2.13.0 in /usr/local/lib/python3.10/dist-packages (from rich<14,>=10.14.0->streamlit) (2.16.1)\n",
            "Requirement already satisfied: smmap<6,>=3.0.1 in /usr/local/lib/python3.10/dist-packages (from gitdb<5,>=4.0.1->gitpython!=3.1.19,<4,>=3.0.7->streamlit) (5.0.1)\n",
            "Requirement already satisfied: MarkupSafe>=2.0 in /usr/local/lib/python3.10/dist-packages (from jinja2->altair<6,>=4.0->streamlit) (2.1.5)\n",
            "Requirement already satisfied: attrs>=22.2.0 in /usr/local/lib/python3.10/dist-packages (from jsonschema>=3.0->altair<6,>=4.0->streamlit) (24.2.0)\n",
            "Requirement already satisfied: jsonschema-specifications>=2023.03.6 in /usr/local/lib/python3.10/dist-packages (from jsonschema>=3.0->altair<6,>=4.0->streamlit) (2023.12.1)\n",
            "Requirement already satisfied: referencing>=0.28.4 in /usr/local/lib/python3.10/dist-packages (from jsonschema>=3.0->altair<6,>=4.0->streamlit) (0.35.1)\n",
            "Requirement already satisfied: rpds-py>=0.7.1 in /usr/local/lib/python3.10/dist-packages (from jsonschema>=3.0->altair<6,>=4.0->streamlit) (0.20.0)\n",
            "Requirement already satisfied: mdurl~=0.1 in /usr/local/lib/python3.10/dist-packages (from markdown-it-py>=2.2.0->rich<14,>=10.14.0->streamlit) (0.1.2)\n"
          ]
        }
      ],
      "source": [
        "!pip install streamlit scikit-learn pandas joblib openpyxl\n"
      ]
    },
    {
      "cell_type": "code",
      "execution_count": null,
      "metadata": {
        "id": "qwD0IH5yaPOf"
      },
      "outputs": [],
      "source": [
        "import streamlit as st\n",
        "import pandas as pd\n",
        "from sklearn.linear_model import LogisticRegression  # Logistic Regression\n",
        "import joblib  # To load a pre-trained model\n",
        "\n",
        "# Load your trained logistic regression model (ensure that you have a trained model saved as 'copper_logistic_model.pkl')\n",
        "# model = joblib.load('copper_logistic_model.pkl')\n",
        "\n",
        "# Title of the app\n",
        "st.title(\"Industrial Copper Sales Prediction\")\n",
        "\n",
        "# Input fields for each of the columns in the dataframe\n",
        "id_input = st.text_input('ID')\n",
        "item_date = st.date_input('Item Date')\n",
        "quantity_tons = st.number_input('Quantity (Tons)', min_value=0.0)\n",
        "customer = st.text_input('Customer')\n",
        "country = st.text_input('Country')\n",
        "status = st.selectbox('Status', options=['Pending', 'Confirmed', 'Cancelled'])  # Example options\n",
        "item_type = st.text_input('Item Type')\n",
        "application = st.text_input('Application')\n",
        "thickness = st.number_input('Thickness', min_value=0.0)\n",
        "width = st.number_input('Width', min_value=0.0)\n",
        "material_ref = st.text_input('Material Reference')\n",
        "product_ref = st.text_input('Product Reference')\n",
        "delivery_date = st.date_input('Delivery Date')\n",
        "selling_price = st.number_input('Selling Price', min_value=0.0)\n",
        "\n",
        "# Create a dataframe from input fields\n",
        "input_data = pd.DataFrame({\n",
        "    'id': [id_input],\n",
        "    'item_date': [item_date],\n",
        "    'quantity tons': [quantity_tons],\n",
        "    'customer': [customer],\n",
        "    'country': [country],\n",
        "    'status': [status],\n",
        "    'item type': [item_type],\n",
        "    'application': [application],\n",
        "    'thickness': [thickness],\n",
        "    'width': [width],\n",
        "    'material_ref': [material_ref],\n",
        "    'product_ref': [product_ref],\n",
        "    'delivery date': [delivery_date],\n",
        "    'selling_price': [selling_price]\n",
        "})\n",
        "\n",
        "# Display the dataframe for verification\n",
        "st.write(\"Input Data\", input_data)\n",
        "\n",
        "# Button to predict\n",
        "if st.button('Predict'):\n",
        "    # Preprocess the input data (you need to implement this based on how you trained your model)\n",
        "    # For example, you might need to encode categorical variables or scale numeric features\n",
        "\n",
        "    # Assuming the model expects the same features as in `input_data`, but in a different order or after some preprocessing\n",
        "    # preprocessed_data = preprocess(input_data)  # Implement this function\n",
        "\n",
        "    # Predict the outcome (won or not) using the loaded logistic regression model\n",
        "    # prediction = model.predict(preprocessed_data)\n",
        "\n",
        "    # For the purpose of this example, we'll use a dummy result\n",
        "    prediction = ['Won']  # or ['Not Won']\n",
        "\n",
        "    # Display the prediction\n",
        "    st.write(f\"The sale prediction is: {prediction[0]}\")\n",
        "\n",
        "# Note: Replace the dummy 'prediction' with the actual model prediction.\n",
        "# Ensure that the input_data is preprocessed the same way it was during the model training before passing it to model.predict()"
      ]
    },
    {
      "cell_type": "markdown",
      "metadata": {
        "id": "QWYEAuK1bOni"
      },
      "source": [
        "NEW :"
      ]
    },
    {
      "cell_type": "code",
      "execution_count": null,
      "metadata": {
        "colab": {
          "base_uri": "https://localhost:8080/"
        },
        "id": "IJ27f_FEbseR",
        "outputId": "1808596d-eeaa-4ccc-f95a-1f035789a426"
      },
      "outputs": [
        {
          "name": "stdout",
          "output_type": "stream",
          "text": [
            "Requirement already satisfied: streamlit in /usr/local/lib/python3.10/dist-packages (1.37.1)\n",
            "Requirement already satisfied: altair<6,>=4.0 in /usr/local/lib/python3.10/dist-packages (from streamlit) (4.2.2)\n",
            "Requirement already satisfied: blinker<2,>=1.0.0 in /usr/lib/python3/dist-packages (from streamlit) (1.4)\n",
            "Requirement already satisfied: cachetools<6,>=4.0 in /usr/local/lib/python3.10/dist-packages (from streamlit) (5.5.0)\n",
            "Requirement already satisfied: click<9,>=7.0 in /usr/local/lib/python3.10/dist-packages (from streamlit) (8.1.7)\n",
            "Requirement already satisfied: numpy<3,>=1.20 in /usr/local/lib/python3.10/dist-packages (from streamlit) (1.26.4)\n",
            "Requirement already satisfied: packaging<25,>=20 in /usr/local/lib/python3.10/dist-packages (from streamlit) (24.1)\n",
            "Requirement already satisfied: pandas<3,>=1.3.0 in /usr/local/lib/python3.10/dist-packages (from streamlit) (2.1.4)\n",
            "Requirement already satisfied: pillow<11,>=7.1.0 in /usr/local/lib/python3.10/dist-packages (from streamlit) (9.4.0)\n",
            "Requirement already satisfied: protobuf<6,>=3.20 in /usr/local/lib/python3.10/dist-packages (from streamlit) (3.20.3)\n",
            "Requirement already satisfied: pyarrow>=7.0 in /usr/local/lib/python3.10/dist-packages (from streamlit) (14.0.2)\n",
            "Requirement already satisfied: requests<3,>=2.27 in /usr/local/lib/python3.10/dist-packages (from streamlit) (2.32.3)\n",
            "Requirement already satisfied: rich<14,>=10.14.0 in /usr/local/lib/python3.10/dist-packages (from streamlit) (13.7.1)\n",
            "Requirement already satisfied: tenacity<9,>=8.1.0 in /usr/local/lib/python3.10/dist-packages (from streamlit) (8.5.0)\n",
            "Requirement already satisfied: toml<2,>=0.10.1 in /usr/local/lib/python3.10/dist-packages (from streamlit) (0.10.2)\n",
            "Requirement already satisfied: typing-extensions<5,>=4.3.0 in /usr/local/lib/python3.10/dist-packages (from streamlit) (4.12.2)\n",
            "Requirement already satisfied: gitpython!=3.1.19,<4,>=3.0.7 in /usr/local/lib/python3.10/dist-packages (from streamlit) (3.1.43)\n",
            "Requirement already satisfied: pydeck<1,>=0.8.0b4 in /usr/local/lib/python3.10/dist-packages (from streamlit) (0.9.1)\n",
            "Requirement already satisfied: tornado<7,>=6.0.3 in /usr/local/lib/python3.10/dist-packages (from streamlit) (6.3.3)\n",
            "Requirement already satisfied: watchdog<5,>=2.1.5 in /usr/local/lib/python3.10/dist-packages (from streamlit) (4.0.2)\n",
            "Requirement already satisfied: entrypoints in /usr/local/lib/python3.10/dist-packages (from altair<6,>=4.0->streamlit) (0.4)\n",
            "Requirement already satisfied: jinja2 in /usr/local/lib/python3.10/dist-packages (from altair<6,>=4.0->streamlit) (3.1.4)\n",
            "Requirement already satisfied: jsonschema>=3.0 in /usr/local/lib/python3.10/dist-packages (from altair<6,>=4.0->streamlit) (4.23.0)\n",
            "Requirement already satisfied: toolz in /usr/local/lib/python3.10/dist-packages (from altair<6,>=4.0->streamlit) (0.12.1)\n",
            "Requirement already satisfied: gitdb<5,>=4.0.1 in /usr/local/lib/python3.10/dist-packages (from gitpython!=3.1.19,<4,>=3.0.7->streamlit) (4.0.11)\n",
            "Requirement already satisfied: python-dateutil>=2.8.2 in /usr/local/lib/python3.10/dist-packages (from pandas<3,>=1.3.0->streamlit) (2.8.2)\n",
            "Requirement already satisfied: pytz>=2020.1 in /usr/local/lib/python3.10/dist-packages (from pandas<3,>=1.3.0->streamlit) (2024.1)\n",
            "Requirement already satisfied: tzdata>=2022.1 in /usr/local/lib/python3.10/dist-packages (from pandas<3,>=1.3.0->streamlit) (2024.1)\n",
            "Requirement already satisfied: charset-normalizer<4,>=2 in /usr/local/lib/python3.10/dist-packages (from requests<3,>=2.27->streamlit) (3.3.2)\n",
            "Requirement already satisfied: idna<4,>=2.5 in /usr/local/lib/python3.10/dist-packages (from requests<3,>=2.27->streamlit) (3.7)\n",
            "Requirement already satisfied: urllib3<3,>=1.21.1 in /usr/local/lib/python3.10/dist-packages (from requests<3,>=2.27->streamlit) (2.0.7)\n",
            "Requirement already satisfied: certifi>=2017.4.17 in /usr/local/lib/python3.10/dist-packages (from requests<3,>=2.27->streamlit) (2024.7.4)\n",
            "Requirement already satisfied: markdown-it-py>=2.2.0 in /usr/local/lib/python3.10/dist-packages (from rich<14,>=10.14.0->streamlit) (3.0.0)\n",
            "Requirement already satisfied: pygments<3.0.0,>=2.13.0 in /usr/local/lib/python3.10/dist-packages (from rich<14,>=10.14.0->streamlit) (2.16.1)\n",
            "Requirement already satisfied: smmap<6,>=3.0.1 in /usr/local/lib/python3.10/dist-packages (from gitdb<5,>=4.0.1->gitpython!=3.1.19,<4,>=3.0.7->streamlit) (5.0.1)\n",
            "Requirement already satisfied: MarkupSafe>=2.0 in /usr/local/lib/python3.10/dist-packages (from jinja2->altair<6,>=4.0->streamlit) (2.1.5)\n",
            "Requirement already satisfied: attrs>=22.2.0 in /usr/local/lib/python3.10/dist-packages (from jsonschema>=3.0->altair<6,>=4.0->streamlit) (24.2.0)\n",
            "Requirement already satisfied: jsonschema-specifications>=2023.03.6 in /usr/local/lib/python3.10/dist-packages (from jsonschema>=3.0->altair<6,>=4.0->streamlit) (2023.12.1)\n",
            "Requirement already satisfied: referencing>=0.28.4 in /usr/local/lib/python3.10/dist-packages (from jsonschema>=3.0->altair<6,>=4.0->streamlit) (0.35.1)\n",
            "Requirement already satisfied: rpds-py>=0.7.1 in /usr/local/lib/python3.10/dist-packages (from jsonschema>=3.0->altair<6,>=4.0->streamlit) (0.20.0)\n",
            "Requirement already satisfied: mdurl~=0.1 in /usr/local/lib/python3.10/dist-packages (from markdown-it-py>=2.2.0->rich<14,>=10.14.0->streamlit) (0.1.2)\n",
            "Requirement already satisfied: six>=1.5 in /usr/local/lib/python3.10/dist-packages (from python-dateutil>=2.8.2->pandas<3,>=1.3.0->streamlit) (1.16.0)\n"
          ]
        }
      ],
      "source": [
        "!pip install streamlit"
      ]
    },
    {
      "cell_type": "code",
      "execution_count": null,
      "metadata": {
        "id": "zW13y_CNb8Zv"
      },
      "outputs": [],
      "source": [
        "!pip install -q streamlit"
      ]
    },
    {
      "cell_type": "code",
      "execution_count": null,
      "metadata": {
        "id": "IWVB2H-lcAKL"
      },
      "outputs": [],
      "source": [
        "!streamlit run app.py &>/content/logs.txt &"
      ]
    },
    {
      "cell_type": "code",
      "execution_count": null,
      "metadata": {
        "colab": {
          "base_uri": "https://localhost:8080/"
        },
        "id": "HL-AMo8zcE-K",
        "outputId": "65a6723c-f29e-455c-eba3-dc3849871953"
      },
      "outputs": [
        {
          "name": "stdout",
          "output_type": "stream",
          "text": [
            "34.121.122.6\n"
          ]
        }
      ],
      "source": [
        "!wget -q -O  - ipv4.icanhazip.com"
      ]
    },
    {
      "cell_type": "code",
      "execution_count": null,
      "metadata": {
        "colab": {
          "background_save": true,
          "base_uri": "https://localhost:8080/"
        },
        "id": "O2bl7Ym0cI20",
        "outputId": "204eab41-c5d4-4b93-c88a-341b85cf05f3"
      },
      "outputs": [
        {
          "name": "stdout",
          "output_type": "stream",
          "text": [
            "your url is: https://upset-dryers-hope.loca.lt\n"
          ]
        }
      ],
      "source": [
        "!npx localtunnel --port 8501"
      ]
    },
    {
      "cell_type": "code",
      "execution_count": null,
      "metadata": {
        "colab": {
          "base_uri": "https://localhost:8080/"
        },
        "id": "iWBPewmXbKz8",
        "outputId": "bd181ee4-057a-4376-8dff-38f7c331d769"
      },
      "outputs": [
        {
          "name": "stdout",
          "output_type": "stream",
          "text": [
            "Overwriting app.py\n"
          ]
        }
      ],
      "source": [
        "%%writefile app.py\n",
        "\n",
        "import streamlit as st\n",
        "import pandas as pd\n",
        "import joblib  # For loading the model\n",
        "\n",
        "# Title of the app\n",
        "st.title(\"Industrial Copper Sales Prediction\")\n",
        "\n",
        "# Load the Excel file directly from the specified path\n",
        "file_path = '/content/Copper_Set.xlsx'\n",
        "df = pd.read_excel(file_path)\n",
        "\n",
        "# Display the DataFrame for verification\n",
        "st.write(\"Loaded Data from Excel\", df)\n",
        "\n",
        "# Assuming your model file needs to be uploaded by the user\n",
        "model_file = st.file_uploader(\"Upload your model file\", type=\"pkl\")\n",
        "\n",
        "if model_file is not None:\n",
        "    model = joblib.load(model_file)\n",
        "    st.write(\"Model loaded successfully.\")\n",
        "\n",
        "    # Input fields for each of the columns in the dataframe\n",
        "    id_input = st.text_input('ID')\n",
        "    item_date = st.date_input('Item Date')\n",
        "    quantity_tons = st.number_input('Quantity (Tons)', min_value=0.0)\n",
        "    customer = st.text_input('Customer')\n",
        "    country = st.text_input('Country')\n",
        "    status = st.selectbox('Status', options=['Pending', 'Confirmed', 'Cancelled'])  # Example options\n",
        "    item_type = st.text_input('Item Type')\n",
        "    application = st.text_input('Application')\n",
        "    thickness = st.number_input('Thickness', min_value=0.0)\n",
        "    width = st.number_input('Width', min_value=0.0)\n",
        "    material_ref = st.text_input('Material Reference')\n",
        "    product_ref = st.text_input('Product Reference')\n",
        "    delivery_date = st.date_input('Delivery Date')\n",
        "    selling_price = st.number_input('Selling Price', min_value=0.0)\n",
        "\n",
        "    # Create a dataframe from input fields\n",
        "    input_data = pd.DataFrame({\n",
        "        'id': [id_input],\n",
        "        'item_date': [item_date],\n",
        "        'quantity tons': [quantity_tons],\n",
        "        'customer': [customer],\n",
        "        'country': [country],\n",
        "        'status': [status],\n",
        "        'item type': [item_type],\n",
        "        'application': [application],\n",
        "        'thickness': [thickness],\n",
        "        'width': [width],\n",
        "        'material_ref': [material_ref],\n",
        "        'product_ref': [product_ref],\n",
        "        'delivery date': [delivery_date],\n",
        "        'selling_price': [selling_price]\n",
        "    })\n",
        "\n",
        "    # Display the dataframe for verification\n",
        "    st.write(\"Input Data\", input_data)\n",
        "\n",
        "    # Button to predict\n",
        "    if st.button('Predict'):\n",
        "        # Preprocess the input data if necessary\n",
        "        input_data_preprocessed = input_data.drop(columns=['id', 'item_date', 'delivery date'])\n",
        "\n",
        "        # Predict the outcome (won or not) using the loaded logistic regression model\n",
        "        prediction = model.predict(input_data_preprocessed)\n",
        "\n",
        "        # Display the prediction\n",
        "        result = 'Won' if prediction[0] == 1 else 'Not Won'\n",
        "        st.write(f\"The sale prediction is: {result}\")\n",
        "\n"
      ]
    },
    {
      "cell_type": "markdown",
      "metadata": {
        "id": "oxh2iRkLj_8b"
      },
      "source": [
        "CSV :"
      ]
    },
    {
      "cell_type": "code",
      "execution_count": null,
      "metadata": {
        "colab": {
          "base_uri": "https://localhost:8080/"
        },
        "id": "4C7_rptakBiq",
        "outputId": "dc4091f0-0e13-4ba9-8357-c3787cbc2af8"
      },
      "outputs": [
        {
          "name": "stdout",
          "output_type": "stream",
          "text": [
            "Overwriting app.py\n"
          ]
        }
      ],
      "source": [
        "%%writefile app.py\n",
        "\n",
        "import streamlit as st\n",
        "import pandas as pd\n",
        "\n",
        "# Title of the app\n",
        "st.title(\"Industrial Copper Sales Prediction\")\n",
        "\n",
        "# File uploader to upload Excel file\n",
        "uploaded_file = st.file_uploader(\"/content/Copper_Set.xlsx\", type=\"xlsx\")\n",
        "\n",
        "if uploaded_file is not None:\n",
        "    # Load the Excel file into a DataFrame\n",
        "    df = pd.read_excel(uploaded_file)\n",
        "\n",
        "    # Display the DataFrame for verification\n",
        "    st.write(\"Uploaded Data\", df)\n",
        "\n",
        "    # Input fields for each of the columns in the dataframe\n",
        "    id_input = st.text_input('ID')\n",
        "    item_date = st.date_input('Item Date')\n",
        "    quantity_tons = st.number_input('Quantity (Tons)', min_value=0.0)\n",
        "    customer = st.text_input('Customer')\n",
        "    country = st.text_input('Country')\n",
        "    status = st.selectbox('Status', options=['Pending', 'Confirmed', 'Cancelled'])  # Example options\n",
        "    item_type = st.text_input('Item Type')\n",
        "    application = st.text_input('Application')\n",
        "    thickness = st.number_input('Thickness', min_value=0.0)\n",
        "    width = st.number_input('Width', min_value=0.0)\n",
        "    material_ref = st.text_input('Material Reference')\n",
        "    product_ref = st.text_input('Product Reference')\n",
        "    delivery_date = st.date_input('Delivery Date')\n",
        "    selling_price = st.number_input('Selling Price', min_value=0.0)\n",
        "\n",
        "    # Create a dataframe from input fields\n",
        "    input_data = pd.DataFrame({\n",
        "        'id': [id_input],\n",
        "        'item_date': [item_date],\n",
        "        'quantity tons': [quantity_tons],\n",
        "        'customer': [customer],\n",
        "        'country': [country],\n",
        "        'status': [status],\n",
        "        'item type': [item_type],\n",
        "        'application': [application],\n",
        "        'thickness': [thickness],\n",
        "        'width': [width],\n",
        "        'material_ref': [material_ref],\n",
        "        'product_ref': [product_ref],\n",
        "        'delivery date': [delivery_date],\n",
        "        'selling_price': [selling_price]\n",
        "    })\n",
        "\n",
        "    # Display the dataframe for verification\n",
        "    st.write(\"Input Data\", input_data)\n",
        "\n",
        "    # Button to predict\n",
        "    if st.button('Predict'):\n",
        "        # Dummy processing and prediction (Replace with your model logic)\n",
        "        # This is a placeholder. You need to replace it with the logic to process the input data\n",
        "        # and make predictions using the model parameters that might be in the Excel file.\n",
        "        # For example:\n",
        "        # prediction = model.predict(input_data_preprocessed)\n",
        "\n",
        "        # Dummy prediction output\n",
        "        prediction = [1]  # Assume prediction is \"Won\"\n",
        "\n",
        "        # Display the prediction\n",
        "        result = 'Won' if prediction[0] == 1 else 'Not Won'\n",
        "        st.write(f\"The sale prediction is: {result}\")\n"
      ]
    }
  ],
  "metadata": {
    "colab": {
      "provenance": [],
      "mount_file_id": "1WrvA6XsrBtAkSGqj4i8QDBRGgpYk-zEa",
      "authorship_tag": "ABX9TyMIjAC/yfLGhSWmQP4PWaer",
      "include_colab_link": true
    },
    "kernelspec": {
      "display_name": "Python 3",
      "name": "python3"
    },
    "language_info": {
      "name": "python"
    }
  },
  "nbformat": 4,
  "nbformat_minor": 0
}